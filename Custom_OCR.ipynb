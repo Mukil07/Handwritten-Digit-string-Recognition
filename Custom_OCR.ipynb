{
  "nbformat": 4,
  "nbformat_minor": 0,
  "metadata": {
    "colab": {
      "provenance": []
    },
    "kernelspec": {
      "name": "python3",
      "display_name": "Python 3"
    },
    "language_info": {
      "name": "python"
    },
    "accelerator": "GPU",
    "gpuClass": "standard"
  },
  "cells": [
    {
      "cell_type": "code",
      "execution_count": null,
      "metadata": {
        "id": "xdbXS_xjKYOb"
      },
      "outputs": [],
      "source": [
        "import numpy as np\n",
        "import cv2\n",
        "import os\n",
        "import pandas as pd\n",
        "import string\n",
        "import matplotlib.pyplot as plt\n",
        "import tensorflow as tf\n",
        "import keras\n",
        "from tensorflow.keras.backend import ctc_batch_cost\n",
        "\n",
        "from keras_preprocessing.sequence import pad_sequences\n",
        "from keras_preprocessing.image import ImageDataGenerator\n",
        "\n",
        "from keras.layers import Dense, LSTM, Reshape, BatchNormalization, Input, Conv2D, MaxPooling2D, Lambda, Bidirectional, TimeDistributed, Flatten, Layer\n",
        "from keras.models import Model\n",
        "from keras.activations import relu, sigmoid, softmax\n",
        "import keras.backend as K\n",
        "from keras.utils import to_categorical\n",
        "from keras.callbacks import ModelCheckpoint\n",
        "\n",
        "\n",
        "from sklearn.model_selection import train_test_split\n",
        "from sklearn.preprocessing import MinMaxScaler"
      ]
    },
    {
      "cell_type": "code",
      "source": [
        "\n",
        "# This is for encoding each char to label and then converting label to char while decoding\n",
        "\n",
        "max_label_len = 0\n",
        "\n",
        "char_list = \".0123456789\"\n",
        "print(char_list, len(char_list))\n",
        "\n",
        "def encode_to_labels(txt):\n",
        "\n",
        "    dig_lst = []\n",
        "    for index, chara in enumerate(txt):\n",
        "        dig_lst.append(char_list.index(chara))\n",
        "\n",
        "    return dig_lst\n",
        "\n",
        "encode_to_labels(char_list)"
      ],
      "metadata": {
        "colab": {
          "base_uri": "https://localhost:8080/"
        },
        "id": "bh3GoGRHKbWk",
        "outputId": "12e5f03a-9f53-4dd0-d183-11ad18d0ca5d"
      },
      "execution_count": null,
      "outputs": [
        {
          "output_type": "stream",
          "name": "stdout",
          "text": [
            ".0123456789 11\n"
          ]
        },
        {
          "output_type": "execute_result",
          "data": {
            "text/plain": [
              "[0, 1, 2, 3, 4, 5, 6, 7, 8, 9, 10]"
            ]
          },
          "metadata": {},
          "execution_count": 2
        }
      ]
    },
    {
      "cell_type": "code",
      "source": [
        "images = []\n",
        "labels = []\n",
        "\n"
      ],
      "metadata": {
        "id": "R1sqbjFwLQ3h"
      },
      "execution_count": null,
      "outputs": []
    },
    {
      "cell_type": "code",
      "source": [
        "\n",
        "# Resizing the images and normalizing.\n",
        "\n",
        "def process_image(img):\n",
        "    w, h = img.shape\n",
        "\n",
        "#     _, img = cv2.threshold(img,\n",
        "#                            128,\n",
        "#                            255,\n",
        "#                            cv2.THRESH_BINARY | cv2.THRESH_OTSU)\n",
        "\n",
        "    # Aspect Ratio Calculation\n",
        "    new_w = 32\n",
        "    new_h = 32\n",
        "    img = cv2.resize(img, (new_h, new_w))\n",
        "    w, h = img.shape\n",
        "\n",
        "    img = img.astype('float32')\n",
        "\n",
        "    # Converts each to (32, 32, 1)\n",
        "    if w < 32:\n",
        "        add_zeros = np.full((32-w, h), 255)\n",
        "        img = np.concatenate((img, add_zeros))\n",
        "        w, h = img.shape\n",
        "\n",
        "    if h < 32:\n",
        "        add_zeros = np.full((w, 32-h), 255)\n",
        "        img = np.concatenate((img, add_zeros), axis=1)\n",
        "        w, h = img.shape\n",
        "\n",
        "    if h > 32 or w > 32:\n",
        "        dim = (32,32)\n",
        "        img = cv2.resize(img, dim)\n",
        "\n",
        "    img = cv2.subtract(255, img)\n",
        "\n",
        "    img = np.expand_dims(img, axis=2)\n",
        "\n",
        "    # Normalize\n",
        "    img = img / 255\n",
        "\n",
        "    return img"
      ],
      "metadata": {
        "id": "an-GZJC0Lpxq"
      },
      "execution_count": null,
      "outputs": []
    },
    {
      "cell_type": "code",
      "source": [
        "from google.colab import drive\n",
        "drive.mount('content/')"
      ],
      "metadata": {
        "colab": {
          "base_uri": "https://localhost:8080/"
        },
        "id": "LPzkHuiDMUmv",
        "outputId": "8ccef3dd-f33e-45c2-cdcf-98b45a2ff0ea"
      },
      "execution_count": null,
      "outputs": [
        {
          "output_type": "stream",
          "name": "stdout",
          "text": [
            "Mounted at content/\n"
          ]
        }
      ]
    },
    {
      "cell_type": "code",
      "source": [
        "traindf= pd.read_csv('/content/content/MyDrive/numbers/train/_annotations.csv')\n",
        "testdf= pd.read_csv('/content/content/MyDrive/numbers/test/_annotations.csv')"
      ],
      "metadata": {
        "id": "KLFzMSb0W0xd"
      },
      "execution_count": null,
      "outputs": []
    },
    {
      "cell_type": "code",
      "source": [
        "datagen= ImageDataGenerator(rescale= 1./255.,validation_split= 0.25)"
      ],
      "metadata": {
        "id": "ntzZrB_iW9Sj"
      },
      "execution_count": null,
      "outputs": []
    },
    {
      "cell_type": "code",
      "source": [
        "# train and test data generator module to train with a batch of 8 images\n",
        "\n",
        "\n",
        "train_generator= datagen.flow_from_dataframe(dataframe= traindf, directory= '/content/content/MyDrive/numbers/train',\n",
        "                                           x_col= 'filename',\n",
        "                                           y_col= 'class',\n",
        "                                           subset='training',\n",
        "                                           class_mode= 'raw',\n",
        "                                           batch_size= 8,\n",
        "                                           target_size=(32,32),\n",
        "                                           shuffle= True)\n",
        "\n",
        "valid_generator= datagen.flow_from_dataframe(dataframe= traindf, directory= '/content/content/MyDrive/numbers/train',\n",
        "                                           x_col= 'filename',\n",
        "                                           y_col= 'class',\n",
        "                                           subset='validation',\n",
        "                                           class_mode= 'raw',\n",
        "                                           batch_size= 1,\n",
        "                                           target_size=(32,32),\n",
        "                                           shuffle= True)\n",
        "\n",
        "test_datagen= ImageDataGenerator(rescale=1./255.)\n",
        "\n",
        "test_generator= test_datagen.flow_from_dataframe(dataframe= testdf,\n",
        "                                                 batch_size=1,\n",
        "                                                 directory= '/content/content/MyDrive/numbers/test',\n",
        "                                                 x_col= 'filename',\n",
        "                                                 y_col= None,\n",
        "                                                 shuffle= False,\n",
        "                                                 target_size=(32,32),\n",
        "                                                 class_mode= None)\n",
        "\n",
        ""
      ],
      "metadata": {
        "colab": {
          "base_uri": "https://localhost:8080/"
        },
        "id": "6DLLjg53XDN2",
        "outputId": "563a6125-be60-450e-80fe-ae845fcf6604"
      },
      "execution_count": null,
      "outputs": [
        {
          "output_type": "stream",
          "name": "stdout",
          "text": [
            "Found 2152 validated image filenames.\n",
            "Found 717 validated image filenames.\n",
            "Found 100 validated image filenames.\n"
          ]
        }
      ]
    },
    {
      "cell_type": "code",
      "source": [
        "class CTCLayer(Layer):\n",
        "  def __init__(self,name= None):\n",
        "    super().__init__(name= name)\n",
        "    self.loss_fn= keras.backend.ctc_batch_cost\n",
        "\n",
        "  def call(self, y_true, y_pred):\n",
        "    batch_len= tf.cast(tf.shape(y_true)[0], dtype= 'int64')\n",
        "    input_length= tf.cast(tf.shape(y_pred)[1], dtype= 'int64')\n",
        "    label_length= tf.cast(tf.shape(y_true)[1], dtype='int64')\n",
        "\n",
        "    input_length= input_length*tf.ones(shape=(batch_len,1), dtype='int64')\n",
        "    label_length= label_length*tf.ones(shape=(batch_len,1), dtype='int64')\n",
        "\n",
        "    loss= self.loss_fn(y_true, y_pred, input_length, label_length)\n",
        "\n",
        "    self.add_loss(loss)\n",
        "\n",
        "    return y_pred\n"
      ],
      "metadata": {
        "id": "-3hI1oxTggPu"
      },
      "execution_count": null,
      "outputs": []
    },
    {
      "cell_type": "code",
      "source": [
        "\n",
        "inputs = Input(shape=(32,32,1),name= \"image\", dtype=\"float32\")\n",
        "labels= Input(name= \"label\", shape=(None,), dtype= \"float32\")\n",
        "activation= 'relu'\n",
        "x = Conv2D(8, 3, activation=activation, padding=\"same\")(inputs)\n",
        "x = Conv2D(16, 3, activation=activation, padding=\"same\")(x)\n",
        "x = MaxPooling2D()(x)\n",
        "\n",
        "x = Conv2D(32, 3, activation=activation, padding=\"same\")(x)\n",
        "x = Conv2D(64, 3, activation=activation, padding=\"same\")(x)\n",
        "x = MaxPooling2D()(x)\n",
        "\n",
        "tdist = TimeDistributed(Flatten(), name='timedistrib')(x)\n",
        "\n",
        "rnn_in = Dense(128, activation=activation, name='dense_in')(tdist)\n",
        "x = Bidirectional(LSTM(64, return_sequences=True))(rnn_in)\n",
        "x = Bidirectional(LSTM(64, return_sequences=True))(x)\n",
        "outputs = Dense(len(char_list)+1, name=\"predictions\", activation='softmax')(x)\n",
        "output= CTCLayer(name=\"ctc_loss\")(labels,outputs)\n",
        "\n",
        "model = Model(inputs=[inputs,labels], outputs=output)\n",
        "\n",
        "opt= keras.optimizers.Adam()\n",
        "model.compile(optimizer= opt)\n",
        "\n",
        "\n"
      ],
      "metadata": {
        "id": "RI7IgdX6mfoz"
      },
      "execution_count": null,
      "outputs": []
    },
    {
      "cell_type": "code",
      "source": [
        "model.summary()\n"
      ],
      "metadata": {
        "colab": {
          "base_uri": "https://localhost:8080/"
        },
        "id": "ystsEQv7mjPf",
        "outputId": "b4155226-1a38-4bf1-fb09-a202eec7c7c3"
      },
      "execution_count": null,
      "outputs": [
        {
          "output_type": "stream",
          "name": "stdout",
          "text": [
            "Model: \"model\"\n",
            "_________________________________________________________________\n",
            " Layer (type)                Output Shape              Param #   \n",
            "=================================================================\n",
            " input_1 (InputLayer)        [(None, 32, 32, 1)]       0         \n",
            "                                                                 \n",
            " conv2d (Conv2D)             (None, 32, 32, 8)         80        \n",
            "                                                                 \n",
            " conv2d_1 (Conv2D)           (None, 32, 32, 16)        1168      \n",
            "                                                                 \n",
            " max_pooling2d (MaxPooling2D  (None, 16, 16, 16)       0         \n",
            " )                                                               \n",
            "                                                                 \n",
            " conv2d_2 (Conv2D)           (None, 16, 16, 32)        4640      \n",
            "                                                                 \n",
            " conv2d_3 (Conv2D)           (None, 16, 16, 64)        18496     \n",
            "                                                                 \n",
            " max_pooling2d_1 (MaxPooling  (None, 8, 8, 64)         0         \n",
            " 2D)                                                             \n",
            "                                                                 \n",
            " timedistrib (TimeDistribute  (None, 8, 512)           0         \n",
            " d)                                                              \n",
            "                                                                 \n",
            " dense_in (Dense)            (None, 8, 128)            65664     \n",
            "                                                                 \n",
            " bidirectional (Bidirectiona  (None, 8, 128)           98816     \n",
            " l)                                                              \n",
            "                                                                 \n",
            " bidirectional_1 (Bidirectio  (None, 8, 128)           98816     \n",
            " nal)                                                            \n",
            "                                                                 \n",
            " predictions (Dense)         (None, 8, 12)             1548      \n",
            "                                                                 \n",
            "=================================================================\n",
            "Total params: 289,228\n",
            "Trainable params: 289,228\n",
            "Non-trainable params: 0\n",
            "_________________________________________________________________\n"
          ]
        }
      ]
    },
    {
      "cell_type": "code",
      "source": [
        "epochs= 100\n",
        "early_stopping_patience= 10\n",
        "\n",
        "early_stopping= keras.callbacks.EarlyStopping(\n",
        "    monitor= \"val_loss\", patience= early_stopping_patience, restore_best_weights= True)\n",
        "\n",
        "history= model.fit(\n",
        "    train_generator,\n",
        "    epochs=epochs,\n",
        "    callbacks=[early_stopping]\n",
        "\n",
        ")\n"
      ],
      "metadata": {
        "id": "5TM9pgRuGWtA"
      },
      "execution_count": null,
      "outputs": []
    },
    {
      "cell_type": "code",
      "source": [
        "\n",
        "\n",
        "the_labels = Input(name='the_labels', shape=[max_label_len], dtype='float32')\n",
        "input_length = Input(name='input_length', shape=[1], dtype='int64')\n",
        "label_length = Input(name='label_length', shape=[1], dtype='int64')\n",
        "\n",
        "\n",
        "def ctc_lambda_func(args):\n",
        "    y_pred, labels, input_length, label_length = args\n",
        "\n",
        "    return K.ctc_batch_cost(labels, y_pred, input_length, label_length)\n",
        "\n",
        "loss_out = Lambda(ctc_lambda_func, output_shape=(1,), name='ctc')([outputs, the_labels, input_length, label_length])\n",
        "\n",
        "\n",
        "model.compile(loss={'ctc': lambda y_true, y_pred: y_pred}, optimizer = 'Adam', metrics=['accuracy'])\n",
        "H = model.fit_generator(generator= train_generator, epochs=10, verbose=1)"
      ],
      "metadata": {
        "id": "Qx5Wzm6l_4YC"
      },
      "execution_count": null,
      "outputs": []
    }
  ]
}